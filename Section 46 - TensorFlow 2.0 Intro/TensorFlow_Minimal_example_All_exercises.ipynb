{
 "cells": [
  {
   "cell_type": "markdown",
   "metadata": {},
   "source": [
    "# Using the same code as before, please solve the following exercises\n",
    "    1. Change the number of observations to 100,000 and see what happens.\n",
    "    2. Play around with the learning rate. Values like 0.0001, 0.001, 0.1, 1 are all interesting to observe. \n",
    "    3. Change the loss function. An alternative loss for regressions is the Huber loss. \n",
    "    The Huber loss is more appropriate than the L2-norm when we have outliers, as it is less sensitive to them (in our example we don't have outliers, but you will surely stumble upon a dataset with outliers in the future). The L2-norm loss puts all differences *to the square*, so outliers have a lot of influence on the outcome. \n",
    "    The proper syntax of the Huber loss is 'huber_loss'\n",
    "    \n",
    "    \n",
    "Useful tip: When you change something, don't forget to RERUN all cells. This can be done easily by clicking:\n",
    "Kernel -> Restart & Run All\n",
    "If you don't do that, your algorithm will keep the OLD values of all parameters.\n",
    "\n",
    "You can either use this file for all the exercises, or check the solutions of EACH ONE of them in the separate files we have provided. All other files are solutions of each problem. If you feel confident enough, you can simply change values in this file. Please note that it will be nice, if you return the file to starting position after you have solved a problem, so you can use the lecture as a basis for comparison."
   ]
  },
  {
   "cell_type": "markdown",
   "metadata": {},
   "source": [
    "## Import the relevant libraries"
   ]
  },
  {
   "cell_type": "code",
   "execution_count": 1,
   "metadata": {},
   "outputs": [],
   "source": [
    "import numpy as np\n",
    "import tensorflow as tf\n",
    "import matplotlib.pyplot as plt"
   ]
  },
  {
   "cell_type": "markdown",
   "metadata": {},
   "source": [
    "## Data generation\n",
    "\n",
    "We generate data using the exact same logic and code as the example from the previous notebook. The only difference now is that we save it to an npz file. Npz is numpy's file type which allows you to save numpy arrays into a single .npz file. We introduce this change because in machine learning most often: \n",
    "\n",
    "* you are given some data (csv, database, etc.)\n",
    "* you preprocess it into a desired format (later on we will see methods for preprocesing)\n",
    "* you save it into npz files (if you're working in Python) to access later\n",
    "\n",
    "Nothing to worry about - this is literally saving your NumPy arrays into a file that you can later access, nothing more."
   ]
  },
  {
   "cell_type": "code",
   "execution_count": 2,
   "metadata": {},
   "outputs": [],
   "source": [
    "obs = 10000\n",
    "\n",
    "inputs1 = np.random.uniform(-10, 10, (obs, 1))\n",
    "inputs2 = np.random.uniform(-10, 10, (obs, 1))\n",
    "inputs = np.column_stack((inputs1, inputs2))\n",
    "\n",
    "noise = np.random.uniform(-1, 1, (obs, 1))\n",
    "\n",
    "targets = 2*inputs1 + 3*inputs2 + 4 + noise\n",
    "\n",
    "np.savez('TF_intro', inputs=inputs, targets=targets)"
   ]
  },
  {
   "cell_type": "markdown",
   "metadata": {},
   "source": [
    "## Solving with TensorFlow\n",
    "\n",
    "<i/>Note: This intro is just the basics of TensorFlow which has way more capabilities and depth than that.<i>"
   ]
  },
  {
   "cell_type": "code",
   "execution_count": 3,
   "metadata": {},
   "outputs": [],
   "source": [
    "training_data = np.load('TF_intro.npz')"
   ]
  },
  {
   "cell_type": "code",
   "execution_count": 4,
   "metadata": {},
   "outputs": [
    {
     "name": "stdout",
     "output_type": "stream",
     "text": [
      "Epoch 1/100\n",
      "313/313 - 2s - loss: 2.2952 - 2s/epoch - 5ms/step\n",
      "Epoch 2/100\n",
      "313/313 - 1s - loss: 0.1761 - 755ms/epoch - 2ms/step\n",
      "Epoch 3/100\n",
      "313/313 - 1s - loss: 0.1753 - 760ms/epoch - 2ms/step\n",
      "Epoch 4/100\n",
      "313/313 - 1s - loss: 0.1743 - 746ms/epoch - 2ms/step\n",
      "Epoch 5/100\n",
      "313/313 - 1s - loss: 0.1749 - 620ms/epoch - 2ms/step\n",
      "Epoch 6/100\n",
      "313/313 - 1s - loss: 0.1747 - 632ms/epoch - 2ms/step\n",
      "Epoch 7/100\n",
      "313/313 - 1s - loss: 0.1752 - 614ms/epoch - 2ms/step\n",
      "Epoch 8/100\n",
      "313/313 - 1s - loss: 0.1749 - 641ms/epoch - 2ms/step\n",
      "Epoch 9/100\n",
      "313/313 - 1s - loss: 0.1751 - 605ms/epoch - 2ms/step\n",
      "Epoch 10/100\n",
      "313/313 - 1s - loss: 0.1769 - 639ms/epoch - 2ms/step\n",
      "Epoch 11/100\n",
      "313/313 - 1s - loss: 0.1759 - 609ms/epoch - 2ms/step\n",
      "Epoch 12/100\n",
      "313/313 - 1s - loss: 0.1752 - 609ms/epoch - 2ms/step\n",
      "Epoch 13/100\n",
      "313/313 - 1s - loss: 0.1748 - 639ms/epoch - 2ms/step\n",
      "Epoch 14/100\n",
      "313/313 - 1s - loss: 0.1754 - 611ms/epoch - 2ms/step\n",
      "Epoch 15/100\n",
      "313/313 - 1s - loss: 0.1761 - 633ms/epoch - 2ms/step\n",
      "Epoch 16/100\n",
      "313/313 - 1s - loss: 0.1764 - 592ms/epoch - 2ms/step\n",
      "Epoch 17/100\n",
      "313/313 - 1s - loss: 0.1755 - 633ms/epoch - 2ms/step\n",
      "Epoch 18/100\n",
      "313/313 - 1s - loss: 0.1741 - 600ms/epoch - 2ms/step\n",
      "Epoch 19/100\n",
      "313/313 - 1s - loss: 0.1741 - 667ms/epoch - 2ms/step\n",
      "Epoch 20/100\n",
      "313/313 - 1s - loss: 0.1748 - 621ms/epoch - 2ms/step\n",
      "Epoch 21/100\n",
      "313/313 - 1s - loss: 0.1755 - 597ms/epoch - 2ms/step\n",
      "Epoch 22/100\n",
      "313/313 - 1s - loss: 0.1751 - 617ms/epoch - 2ms/step\n",
      "Epoch 23/100\n",
      "313/313 - 1s - loss: 0.1754 - 608ms/epoch - 2ms/step\n",
      "Epoch 24/100\n",
      "313/313 - 1s - loss: 0.1745 - 627ms/epoch - 2ms/step\n",
      "Epoch 25/100\n",
      "313/313 - 1s - loss: 0.1755 - 598ms/epoch - 2ms/step\n",
      "Epoch 26/100\n",
      "313/313 - 1s - loss: 0.1750 - 595ms/epoch - 2ms/step\n",
      "Epoch 27/100\n",
      "313/313 - 1s - loss: 0.1753 - 638ms/epoch - 2ms/step\n",
      "Epoch 28/100\n",
      "313/313 - 1s - loss: 0.1745 - 605ms/epoch - 2ms/step\n",
      "Epoch 29/100\n",
      "313/313 - 1s - loss: 0.1756 - 622ms/epoch - 2ms/step\n",
      "Epoch 30/100\n",
      "313/313 - 1s - loss: 0.1749 - 605ms/epoch - 2ms/step\n",
      "Epoch 31/100\n",
      "313/313 - 1s - loss: 0.1752 - 637ms/epoch - 2ms/step\n",
      "Epoch 32/100\n",
      "313/313 - 1s - loss: 0.1749 - 592ms/epoch - 2ms/step\n",
      "Epoch 33/100\n",
      "313/313 - 1s - loss: 0.1752 - 600ms/epoch - 2ms/step\n",
      "Epoch 34/100\n",
      "313/313 - 1s - loss: 0.1754 - 633ms/epoch - 2ms/step\n",
      "Epoch 35/100\n",
      "313/313 - 1s - loss: 0.1746 - 596ms/epoch - 2ms/step\n",
      "Epoch 36/100\n",
      "313/313 - 1s - loss: 0.1750 - 663ms/epoch - 2ms/step\n",
      "Epoch 37/100\n",
      "313/313 - 1s - loss: 0.1736 - 600ms/epoch - 2ms/step\n",
      "Epoch 38/100\n",
      "313/313 - 1s - loss: 0.1738 - 667ms/epoch - 2ms/step\n",
      "Epoch 39/100\n",
      "313/313 - 1s - loss: 0.1753 - 599ms/epoch - 2ms/step\n",
      "Epoch 40/100\n",
      "313/313 - 1s - loss: 0.1753 - 614ms/epoch - 2ms/step\n",
      "Epoch 41/100\n",
      "313/313 - 1s - loss: 0.1752 - 752ms/epoch - 2ms/step\n",
      "Epoch 42/100\n",
      "313/313 - 1s - loss: 0.1745 - 630ms/epoch - 2ms/step\n",
      "Epoch 43/100\n",
      "313/313 - 1s - loss: 0.1765 - 611ms/epoch - 2ms/step\n",
      "Epoch 44/100\n",
      "313/313 - 1s - loss: 0.1748 - 629ms/epoch - 2ms/step\n",
      "Epoch 45/100\n",
      "313/313 - 1s - loss: 0.1750 - 596ms/epoch - 2ms/step\n",
      "Epoch 46/100\n",
      "313/313 - 1s - loss: 0.1752 - 599ms/epoch - 2ms/step\n",
      "Epoch 47/100\n",
      "313/313 - 1s - loss: 0.1749 - 624ms/epoch - 2ms/step\n",
      "Epoch 48/100\n",
      "313/313 - 1s - loss: 0.1753 - 595ms/epoch - 2ms/step\n",
      "Epoch 49/100\n",
      "313/313 - 1s - loss: 0.1747 - 610ms/epoch - 2ms/step\n",
      "Epoch 50/100\n",
      "313/313 - 1s - loss: 0.1745 - 603ms/epoch - 2ms/step\n",
      "Epoch 51/100\n",
      "313/313 - 1s - loss: 0.1757 - 710ms/epoch - 2ms/step\n",
      "Epoch 52/100\n",
      "313/313 - 1s - loss: 0.1742 - 717ms/epoch - 2ms/step\n",
      "Epoch 53/100\n",
      "313/313 - 1s - loss: 0.1758 - 616ms/epoch - 2ms/step\n",
      "Epoch 54/100\n",
      "313/313 - 1s - loss: 0.1741 - 596ms/epoch - 2ms/step\n",
      "Epoch 55/100\n",
      "313/313 - 1s - loss: 0.1754 - 621ms/epoch - 2ms/step\n",
      "Epoch 56/100\n",
      "313/313 - 1s - loss: 0.1751 - 603ms/epoch - 2ms/step\n",
      "Epoch 57/100\n",
      "313/313 - 1s - loss: 0.1747 - 610ms/epoch - 2ms/step\n",
      "Epoch 58/100\n",
      "313/313 - 1s - loss: 0.1763 - 616ms/epoch - 2ms/step\n",
      "Epoch 59/100\n",
      "313/313 - 1s - loss: 0.1751 - 599ms/epoch - 2ms/step\n",
      "Epoch 60/100\n",
      "313/313 - 1s - loss: 0.1756 - 636ms/epoch - 2ms/step\n",
      "Epoch 61/100\n",
      "313/313 - 1s - loss: 0.1752 - 601ms/epoch - 2ms/step\n",
      "Epoch 62/100\n",
      "313/313 - 1s - loss: 0.1753 - 643ms/epoch - 2ms/step\n",
      "Epoch 63/100\n",
      "313/313 - 1s - loss: 0.1762 - 602ms/epoch - 2ms/step\n",
      "Epoch 64/100\n",
      "313/313 - 1s - loss: 0.1760 - 615ms/epoch - 2ms/step\n",
      "Epoch 65/100\n",
      "313/313 - 1s - loss: 0.1750 - 591ms/epoch - 2ms/step\n",
      "Epoch 66/100\n",
      "313/313 - 1s - loss: 0.1755 - 602ms/epoch - 2ms/step\n",
      "Epoch 67/100\n",
      "313/313 - 1s - loss: 0.1763 - 619ms/epoch - 2ms/step\n",
      "Epoch 68/100\n",
      "313/313 - 1s - loss: 0.1757 - 595ms/epoch - 2ms/step\n",
      "Epoch 69/100\n",
      "313/313 - 1s - loss: 0.1757 - 612ms/epoch - 2ms/step\n",
      "Epoch 70/100\n",
      "313/313 - 1s - loss: 0.1763 - 624ms/epoch - 2ms/step\n",
      "Epoch 71/100\n",
      "313/313 - 1s - loss: 0.1747 - 627ms/epoch - 2ms/step\n",
      "Epoch 72/100\n",
      "313/313 - 1s - loss: 0.1760 - 634ms/epoch - 2ms/step\n",
      "Epoch 73/100\n",
      "313/313 - 1s - loss: 0.1755 - 600ms/epoch - 2ms/step\n",
      "Epoch 74/100\n",
      "313/313 - 1s - loss: 0.1755 - 617ms/epoch - 2ms/step\n",
      "Epoch 75/100\n",
      "313/313 - 1s - loss: 0.1752 - 605ms/epoch - 2ms/step\n",
      "Epoch 76/100\n",
      "313/313 - 1s - loss: 0.1751 - 605ms/epoch - 2ms/step\n",
      "Epoch 77/100\n",
      "313/313 - 1s - loss: 0.1750 - 761ms/epoch - 2ms/step\n",
      "Epoch 78/100\n",
      "313/313 - 1s - loss: 0.1752 - 621ms/epoch - 2ms/step\n",
      "Epoch 79/100\n",
      "313/313 - 1s - loss: 0.1747 - 603ms/epoch - 2ms/step\n",
      "Epoch 80/100\n",
      "313/313 - 1s - loss: 0.1763 - 625ms/epoch - 2ms/step\n",
      "Epoch 81/100\n",
      "313/313 - 1s - loss: 0.1751 - 596ms/epoch - 2ms/step\n",
      "Epoch 82/100\n",
      "313/313 - 1s - loss: 0.1750 - 602ms/epoch - 2ms/step\n",
      "Epoch 83/100\n",
      "313/313 - 1s - loss: 0.1749 - 632ms/epoch - 2ms/step\n",
      "Epoch 84/100\n",
      "313/313 - 1s - loss: 0.1749 - 624ms/epoch - 2ms/step\n",
      "Epoch 85/100\n",
      "313/313 - 1s - loss: 0.1751 - 646ms/epoch - 2ms/step\n",
      "Epoch 86/100\n",
      "313/313 - 1s - loss: 0.1750 - 618ms/epoch - 2ms/step\n",
      "Epoch 87/100\n",
      "313/313 - 1s - loss: 0.1750 - 593ms/epoch - 2ms/step\n",
      "Epoch 88/100\n",
      "313/313 - 1s - loss: 0.1753 - 621ms/epoch - 2ms/step\n",
      "Epoch 89/100\n",
      "313/313 - 1s - loss: 0.1754 - 604ms/epoch - 2ms/step\n",
      "Epoch 90/100\n",
      "313/313 - 1s - loss: 0.1754 - 624ms/epoch - 2ms/step\n",
      "Epoch 91/100\n",
      "313/313 - 1s - loss: 0.1749 - 608ms/epoch - 2ms/step\n",
      "Epoch 92/100\n",
      "313/313 - 1s - loss: 0.1756 - 743ms/epoch - 2ms/step\n",
      "Epoch 93/100\n",
      "313/313 - 1s - loss: 0.1740 - 590ms/epoch - 2ms/step\n",
      "Epoch 94/100\n",
      "313/313 - 1s - loss: 0.1752 - 625ms/epoch - 2ms/step\n",
      "Epoch 95/100\n",
      "313/313 - 1s - loss: 0.1755 - 606ms/epoch - 2ms/step\n",
      "Epoch 96/100\n",
      "313/313 - 1s - loss: 0.1754 - 626ms/epoch - 2ms/step\n",
      "Epoch 97/100\n",
      "313/313 - 1s - loss: 0.1754 - 592ms/epoch - 2ms/step\n",
      "Epoch 98/100\n",
      "313/313 - 1s - loss: 0.1756 - 618ms/epoch - 2ms/step\n",
      "Epoch 99/100\n",
      "313/313 - 1s - loss: 0.1740 - 629ms/epoch - 2ms/step\n",
      "Epoch 100/100\n",
      "313/313 - 1s - loss: 0.1742 - 597ms/epoch - 2ms/step\n"
     ]
    },
    {
     "data": {
      "text/plain": [
       "<keras.src.callbacks.History at 0x12aeb8cc6d0>"
      ]
     },
     "execution_count": 4,
     "metadata": {},
     "output_type": "execute_result"
    }
   ],
   "source": [
    "input_size = 2\n",
    "output_size = 1\n",
    "\n",
    "model = tf.keras.Sequential([\n",
    "    tf.keras.layers.Dense(output_size)\n",
    "])\n",
    "\n",
    "model.compile(optimizer=tf.keras.optimizers.SGD(learning_rate=0.02), loss='huber_loss')\n",
    "\n",
    "model.fit(training_data['inputs'], training_data['targets'], epochs=100, verbose=2)"
   ]
  },
  {
   "cell_type": "markdown",
   "metadata": {},
   "source": [
    "## Extract the weights and bias\n",
    "Extracting the weight(s) and bias(es) of a model is not an essential step for the machine learning process. In fact, usually they would not tell us much in a deep learning context. However, this simple example was set up in a way, which allows us to verify if the answers we get are correct."
   ]
  },
  {
   "cell_type": "code",
   "execution_count": 5,
   "metadata": {},
   "outputs": [
    {
     "data": {
      "text/plain": [
       "[array([[2.0015454],\n",
       "        [3.0105126]], dtype=float32),\n",
       " array([4.0036373], dtype=float32)]"
      ]
     },
     "execution_count": 5,
     "metadata": {},
     "output_type": "execute_result"
    }
   ],
   "source": [
    "model.layers[0].get_weights()"
   ]
  },
  {
   "cell_type": "code",
   "execution_count": 6,
   "metadata": {},
   "outputs": [
    {
     "data": {
      "text/plain": [
       "array([[2.0015454],\n",
       "       [3.0105126]], dtype=float32)"
      ]
     },
     "execution_count": 6,
     "metadata": {},
     "output_type": "execute_result"
    }
   ],
   "source": [
    "weights = model.layers[0].get_weights()[0]\n",
    "weights"
   ]
  },
  {
   "cell_type": "code",
   "execution_count": 7,
   "metadata": {},
   "outputs": [
    {
     "data": {
      "text/plain": [
       "array([4.0036373], dtype=float32)"
      ]
     },
     "execution_count": 7,
     "metadata": {},
     "output_type": "execute_result"
    }
   ],
   "source": [
    "bias = model.layers[0].get_weights()[1]\n",
    "bias"
   ]
  },
  {
   "cell_type": "markdown",
   "metadata": {},
   "source": [
    "## Extract the outputs (make predictions)\n",
    "Once more, this is not an essential step, however, we usually want to be able to make predictions."
   ]
  },
  {
   "cell_type": "code",
   "execution_count": 8,
   "metadata": {},
   "outputs": [
    {
     "data": {
      "text/plain": [
       "array([[-12.825769 ],\n",
       "       [-11.160012 ],\n",
       "       [ -6.9130573],\n",
       "       ...,\n",
       "       [-24.147518 ],\n",
       "       [ 31.496796 ],\n",
       "       [ 49.006203 ]], dtype=float32)"
      ]
     },
     "execution_count": 8,
     "metadata": {},
     "output_type": "execute_result"
    }
   ],
   "source": [
    "model.predict_on_batch(training_data['inputs'])"
   ]
  },
  {
   "cell_type": "markdown",
   "metadata": {},
   "source": [
    "## Plotting the data"
   ]
  },
  {
   "cell_type": "code",
   "execution_count": 9,
   "metadata": {},
   "outputs": [
    {
     "data": {
      "image/png": "[encoded data removed]",
      "text/plain": [
       "<Figure size 640x480 with 1 Axes>"
      ]
     },
     "metadata": {},
     "output_type": "display_data"
    }
   ],
   "source": [
    "plt.plot(np.squeeze(model.predict_on_batch(training_data['inputs'])), np.squeeze(training_data['targets']))\n",
    "plt.xlabel('outputs')\n",
    "plt.ylabel('targets')\n",
    "plt.show()"
   ]
  }
 ],
 "metadata": {
  "kernelspec": {
   "display_name": "Python 3",
   "language": "python",
   "name": "python3"
  },
  "language_info": {
   "codemirror_mode": {
    "name": "ipython",
    "version": 3
   },
   "file_extension": ".py",
   "mimetype": "text/x-python",
   "name": "python",
   "nbconvert_exporter": "python",
   "pygments_lexer": "ipython3",
   "version": "3.8.10"
  }
 },
 "nbformat": 4,
 "nbformat_minor": 2
}
