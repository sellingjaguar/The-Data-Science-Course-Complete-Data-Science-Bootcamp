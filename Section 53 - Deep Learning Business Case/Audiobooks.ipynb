{
 "cells": [
  {
   "cell_type": "markdown",
   "metadata": {},
   "source": [
    "# The problem\n",
    "Given information about a client who bought an audio book, try to predict if he is likely to buy another.\n",
    "\n",
    "### The Data\n",
    "A CSV file where each row contains the following data about a client:\n",
    "- Customer ID\n",
    "- Total books length (minutes)\n",
    "- Average books length (minutes)\n",
    "- Total book price\n",
    "- Average book price\n",
    "- Total review\n",
    "- Review on a 10/10 scale\n",
    "- Minutes listened\n",
    "- Completion (0-1)\n",
    "- Support requests\n",
    "- Last visit since last purchase date\n",
    "- Targets\n",
    "\n",
    "This data was collected during a 2 year period and the 'Targets' column represents if a person bought another book again 6 months after the 2 year data collection period."
   ]
  },
  {
   "cell_type": "markdown",
   "metadata": {},
   "source": [
    "## First look at the data"
   ]
  },
  {
   "cell_type": "code",
   "execution_count": 1,
   "metadata": {},
   "outputs": [],
   "source": [
    "# Import relevant libraries\n",
    "\n",
    "import numpy as np\n",
    "import pandas as pd\n",
    "import tensorflow as tf\n",
    "from sklearn import preprocessing"
   ]
  },
  {
   "cell_type": "code",
   "execution_count": 2,
   "metadata": {},
   "outputs": [
    {
     "data": {
      "text/html": [
       "<div>\n",
       "<style scoped>\n",
       "    .dataframe tbody tr th:only-of-type {\n",
       "        vertical-align: middle;\n",
       "    }\n",
       "\n",
       "    .dataframe tbody tr th {\n",
       "        vertical-align: top;\n",
       "    }\n",
       "\n",
       "    .dataframe thead th {\n",
       "        text-align: right;\n",
       "    }\n",
       "</style>\n",
       "<table border=\"1\" class=\"dataframe\">\n",
       "  <thead>\n",
       "    <tr style=\"text-align: right;\">\n",
       "      <th></th>\n",
       "      <th>1</th>\n",
       "      <th>2</th>\n",
       "      <th>3</th>\n",
       "      <th>4</th>\n",
       "      <th>5</th>\n",
       "      <th>6</th>\n",
       "      <th>7</th>\n",
       "      <th>8</th>\n",
       "      <th>9</th>\n",
       "      <th>10</th>\n",
       "      <th>11</th>\n",
       "    </tr>\n",
       "  </thead>\n",
       "  <tbody>\n",
       "    <tr>\n",
       "      <th>0</th>\n",
       "      <td>1620.0</td>\n",
       "      <td>1620</td>\n",
       "      <td>19.73</td>\n",
       "      <td>19.73</td>\n",
       "      <td>1</td>\n",
       "      <td>10.00</td>\n",
       "      <td>0.99</td>\n",
       "      <td>1603.8</td>\n",
       "      <td>5</td>\n",
       "      <td>92</td>\n",
       "      <td>0</td>\n",
       "    </tr>\n",
       "    <tr>\n",
       "      <th>1</th>\n",
       "      <td>2160.0</td>\n",
       "      <td>2160</td>\n",
       "      <td>5.33</td>\n",
       "      <td>5.33</td>\n",
       "      <td>0</td>\n",
       "      <td>8.91</td>\n",
       "      <td>0.00</td>\n",
       "      <td>0.0</td>\n",
       "      <td>0</td>\n",
       "      <td>0</td>\n",
       "      <td>0</td>\n",
       "    </tr>\n",
       "    <tr>\n",
       "      <th>2</th>\n",
       "      <td>2160.0</td>\n",
       "      <td>2160</td>\n",
       "      <td>5.33</td>\n",
       "      <td>5.33</td>\n",
       "      <td>0</td>\n",
       "      <td>8.91</td>\n",
       "      <td>0.00</td>\n",
       "      <td>0.0</td>\n",
       "      <td>0</td>\n",
       "      <td>388</td>\n",
       "      <td>0</td>\n",
       "    </tr>\n",
       "    <tr>\n",
       "      <th>3</th>\n",
       "      <td>1620.0</td>\n",
       "      <td>1620</td>\n",
       "      <td>5.96</td>\n",
       "      <td>5.96</td>\n",
       "      <td>0</td>\n",
       "      <td>8.91</td>\n",
       "      <td>0.42</td>\n",
       "      <td>680.4</td>\n",
       "      <td>1</td>\n",
       "      <td>129</td>\n",
       "      <td>0</td>\n",
       "    </tr>\n",
       "    <tr>\n",
       "      <th>4</th>\n",
       "      <td>2160.0</td>\n",
       "      <td>2160</td>\n",
       "      <td>5.33</td>\n",
       "      <td>5.33</td>\n",
       "      <td>0</td>\n",
       "      <td>8.91</td>\n",
       "      <td>0.22</td>\n",
       "      <td>475.2</td>\n",
       "      <td>0</td>\n",
       "      <td>361</td>\n",
       "      <td>0</td>\n",
       "    </tr>\n",
       "  </tbody>\n",
       "</table>\n",
       "</div>"
      ],
      "text/plain": [
       "       1     2      3      4   5      6     7       8   9    10  11\n",
       "0  1620.0  1620  19.73  19.73   1  10.00  0.99  1603.8   5   92   0\n",
       "1  2160.0  2160   5.33   5.33   0   8.91  0.00     0.0   0    0   0\n",
       "2  2160.0  2160   5.33   5.33   0   8.91  0.00     0.0   0  388   0\n",
       "3  1620.0  1620   5.96   5.96   0   8.91  0.42   680.4   1  129   0\n",
       "4  2160.0  2160   5.33   5.33   0   8.91  0.22   475.2   0  361   0"
      ]
     },
     "execution_count": 2,
     "metadata": {},
     "output_type": "execute_result"
    }
   ],
   "source": [
    "# Load the data\n",
    "raw_data = pd.read_csv('Audiobooks_data.csv', header=None)\n",
    "raw_data = raw_data.iloc[:, 1:]\n",
    "raw_data.head()"
   ]
  },
  {
   "attachments": {
    "image-2.png": {
     "image/png": "[encoded data removed]"
    },
    "image.png": {
     "image/png": "[encoded data removed]"
    }
   },
   "cell_type": "markdown",
   "metadata": {},
   "source": [
    "### Dataset balance\n",
    "After looking at the data using the 'Data Wrangler' extension I see that the dataset is unbalanced as the number of clients that didn't buy a book again largely outweigh the ones that did.  \n",
    "![image.png](attachment:image.png)\n",
    "![image-2.png](attachment:image-2.png)"
   ]
  },
  {
   "cell_type": "code",
   "execution_count": 3,
   "metadata": {},
   "outputs": [
    {
     "data": {
      "text/html": [
       "<div>\n",
       "<style scoped>\n",
       "    .dataframe tbody tr th:only-of-type {\n",
       "        vertical-align: middle;\n",
       "    }\n",
       "\n",
       "    .dataframe tbody tr th {\n",
       "        vertical-align: top;\n",
       "    }\n",
       "\n",
       "    .dataframe thead th {\n",
       "        text-align: right;\n",
       "    }\n",
       "</style>\n",
       "<table border=\"1\" class=\"dataframe\">\n",
       "  <thead>\n",
       "    <tr style=\"text-align: right;\">\n",
       "      <th></th>\n",
       "      <th>1</th>\n",
       "      <th>2</th>\n",
       "      <th>3</th>\n",
       "      <th>4</th>\n",
       "      <th>5</th>\n",
       "      <th>6</th>\n",
       "      <th>7</th>\n",
       "      <th>8</th>\n",
       "      <th>9</th>\n",
       "      <th>10</th>\n",
       "      <th>11</th>\n",
       "    </tr>\n",
       "  </thead>\n",
       "  <tbody>\n",
       "    <tr>\n",
       "      <th>2183</th>\n",
       "      <td>1188.0</td>\n",
       "      <td>1188</td>\n",
       "      <td>5.33</td>\n",
       "      <td>5.33</td>\n",
       "      <td>0</td>\n",
       "      <td>8.91</td>\n",
       "      <td>0.00</td>\n",
       "      <td>0.0</td>\n",
       "      <td>0</td>\n",
       "      <td>152</td>\n",
       "      <td>1</td>\n",
       "    </tr>\n",
       "    <tr>\n",
       "      <th>715</th>\n",
       "      <td>2160.0</td>\n",
       "      <td>2160</td>\n",
       "      <td>8.00</td>\n",
       "      <td>8.00</td>\n",
       "      <td>0</td>\n",
       "      <td>8.91</td>\n",
       "      <td>0.03</td>\n",
       "      <td>64.8</td>\n",
       "      <td>0</td>\n",
       "      <td>290</td>\n",
       "      <td>0</td>\n",
       "    </tr>\n",
       "    <tr>\n",
       "      <th>4195</th>\n",
       "      <td>1620.0</td>\n",
       "      <td>1620</td>\n",
       "      <td>6.40</td>\n",
       "      <td>6.40</td>\n",
       "      <td>0</td>\n",
       "      <td>8.91</td>\n",
       "      <td>0.19</td>\n",
       "      <td>307.8</td>\n",
       "      <td>0</td>\n",
       "      <td>4</td>\n",
       "      <td>0</td>\n",
       "    </tr>\n",
       "    <tr>\n",
       "      <th>10141</th>\n",
       "      <td>1620.0</td>\n",
       "      <td>1620</td>\n",
       "      <td>5.33</td>\n",
       "      <td>5.33</td>\n",
       "      <td>0</td>\n",
       "      <td>8.91</td>\n",
       "      <td>0.01</td>\n",
       "      <td>16.2</td>\n",
       "      <td>0</td>\n",
       "      <td>64</td>\n",
       "      <td>0</td>\n",
       "    </tr>\n",
       "    <tr>\n",
       "      <th>410</th>\n",
       "      <td>2160.0</td>\n",
       "      <td>2160</td>\n",
       "      <td>10.13</td>\n",
       "      <td>10.13</td>\n",
       "      <td>0</td>\n",
       "      <td>8.91</td>\n",
       "      <td>0.00</td>\n",
       "      <td>0.0</td>\n",
       "      <td>0</td>\n",
       "      <td>33</td>\n",
       "      <td>1</td>\n",
       "    </tr>\n",
       "  </tbody>\n",
       "</table>\n",
       "</div>"
      ],
      "text/plain": [
       "           1     2      3      4   5     6     7      8   9    10  11\n",
       "2183   1188.0  1188   5.33   5.33   0  8.91  0.00    0.0   0  152   1\n",
       "715    2160.0  2160   8.00   8.00   0  8.91  0.03   64.8   0  290   0\n",
       "4195   1620.0  1620   6.40   6.40   0  8.91  0.19  307.8   0    4   0\n",
       "10141  1620.0  1620   5.33   5.33   0  8.91  0.01   16.2   0   64   0\n",
       "410    2160.0  2160  10.13  10.13   0  8.91  0.00    0.0   0   33   1"
      ]
     },
     "execution_count": 3,
     "metadata": {},
     "output_type": "execute_result"
    }
   ],
   "source": [
    "# Balance the dataset\n",
    "\n",
    "# Get total number of ones\n",
    "n_ones = raw_data.iloc[:, -1].value_counts()[1]\n",
    "\n",
    "# Get all that have 'target' equal to 0\n",
    "target_zero = raw_data.loc[raw_data.iloc[:, -1] == 0]\n",
    "\n",
    "# Take random sample\n",
    "random_target_zero = target_zero.sample(n_ones)\n",
    "\n",
    "# Merge the balanced targets 0 and 1\n",
    "balanced_data = pd.concat([raw_data.loc[raw_data.iloc[:, -1] == 1], random_target_zero])\n",
    "\n",
    "# Shuffle data since currently the first half has 'targets' 1's and the second has 0's\n",
    "balanced_data = balanced_data.sample(frac=1)\n",
    "balanced_data.head()"
   ]
  },
  {
   "attachments": {
    "image-2.png": {
     "image/png": "[encoded data removed]"
    },
    "image.png": {
     "image/png": "[encoded data removed]"
    }
   },
   "cell_type": "markdown",
   "metadata": {},
   "source": [
    "As we can see the targets are balanced now  \n",
    "![image.png](attachment:image.png)\n",
    "![image-2.png](attachment:image-2.png)"
   ]
  },
  {
   "cell_type": "markdown",
   "metadata": {},
   "source": [
    "### Input scaling"
   ]
  },
  {
   "cell_type": "code",
   "execution_count": 4,
   "metadata": {},
   "outputs": [
    {
     "data": {
      "text/html": [
       "<div>\n",
       "<style scoped>\n",
       "    .dataframe tbody tr th:only-of-type {\n",
       "        vertical-align: middle;\n",
       "    }\n",
       "\n",
       "    .dataframe tbody tr th {\n",
       "        vertical-align: top;\n",
       "    }\n",
       "\n",
       "    .dataframe thead th {\n",
       "        text-align: right;\n",
       "    }\n",
       "</style>\n",
       "<table border=\"1\" class=\"dataframe\">\n",
       "  <thead>\n",
       "    <tr style=\"text-align: right;\">\n",
       "      <th></th>\n",
       "      <th>1</th>\n",
       "      <th>2</th>\n",
       "      <th>3</th>\n",
       "      <th>4</th>\n",
       "      <th>5</th>\n",
       "      <th>6</th>\n",
       "      <th>7</th>\n",
       "      <th>8</th>\n",
       "      <th>9</th>\n",
       "      <th>10</th>\n",
       "      <th>11</th>\n",
       "    </tr>\n",
       "  </thead>\n",
       "  <tbody>\n",
       "    <tr>\n",
       "      <th>2183</th>\n",
       "      <td>-0.737089</td>\n",
       "      <td>-0.734640</td>\n",
       "      <td>-0.364003</td>\n",
       "      <td>-0.481726</td>\n",
       "      <td>-0.432495</td>\n",
       "      <td>-0.000255</td>\n",
       "      <td>-0.371726</td>\n",
       "      <td>-0.366259</td>\n",
       "      <td>-0.187017</td>\n",
       "      <td>0.885869</td>\n",
       "      <td>1</td>\n",
       "    </tr>\n",
       "    <tr>\n",
       "      <th>715</th>\n",
       "      <td>1.208488</td>\n",
       "      <td>0.375634</td>\n",
       "      <td>0.165037</td>\n",
       "      <td>-0.082558</td>\n",
       "      <td>-0.432495</td>\n",
       "      <td>-0.000255</td>\n",
       "      <td>-0.216349</td>\n",
       "      <td>-0.146025</td>\n",
       "      <td>-0.187017</td>\n",
       "      <td>2.372787</td>\n",
       "      <td>0</td>\n",
       "    </tr>\n",
       "    <tr>\n",
       "      <th>4195</th>\n",
       "      <td>0.127612</td>\n",
       "      <td>-0.241185</td>\n",
       "      <td>-0.151990</td>\n",
       "      <td>-0.321760</td>\n",
       "      <td>-0.432495</td>\n",
       "      <td>-0.000255</td>\n",
       "      <td>0.612328</td>\n",
       "      <td>0.679854</td>\n",
       "      <td>-0.187017</td>\n",
       "      <td>-0.708796</td>\n",
       "      <td>0</td>\n",
       "    </tr>\n",
       "    <tr>\n",
       "      <th>10141</th>\n",
       "      <td>0.127612</td>\n",
       "      <td>-0.241185</td>\n",
       "      <td>-0.364003</td>\n",
       "      <td>-0.481726</td>\n",
       "      <td>-0.432495</td>\n",
       "      <td>-0.000255</td>\n",
       "      <td>-0.319934</td>\n",
       "      <td>-0.311200</td>\n",
       "      <td>-0.187017</td>\n",
       "      <td>-0.062310</td>\n",
       "      <td>0</td>\n",
       "    </tr>\n",
       "    <tr>\n",
       "      <th>410</th>\n",
       "      <td>1.208488</td>\n",
       "      <td>0.375634</td>\n",
       "      <td>0.587081</td>\n",
       "      <td>0.235879</td>\n",
       "      <td>-0.432495</td>\n",
       "      <td>-0.000255</td>\n",
       "      <td>-0.371726</td>\n",
       "      <td>-0.366259</td>\n",
       "      <td>-0.187017</td>\n",
       "      <td>-0.396328</td>\n",
       "      <td>1</td>\n",
       "    </tr>\n",
       "  </tbody>\n",
       "</table>\n",
       "</div>"
      ],
      "text/plain": [
       "             1         2         3         4         5         6         7   \\\n",
       "2183  -0.737089 -0.734640 -0.364003 -0.481726 -0.432495 -0.000255 -0.371726   \n",
       "715    1.208488  0.375634  0.165037 -0.082558 -0.432495 -0.000255 -0.216349   \n",
       "4195   0.127612 -0.241185 -0.151990 -0.321760 -0.432495 -0.000255  0.612328   \n",
       "10141  0.127612 -0.241185 -0.364003 -0.481726 -0.432495 -0.000255 -0.319934   \n",
       "410    1.208488  0.375634  0.587081  0.235879 -0.432495 -0.000255 -0.371726   \n",
       "\n",
       "             8         9         10  11  \n",
       "2183  -0.366259 -0.187017  0.885869   1  \n",
       "715   -0.146025 -0.187017  2.372787   0  \n",
       "4195   0.679854 -0.187017 -0.708796   0  \n",
       "10141 -0.311200 -0.187017 -0.062310   0  \n",
       "410   -0.366259 -0.187017 -0.396328   1  "
      ]
     },
     "execution_count": 4,
     "metadata": {},
     "output_type": "execute_result"
    }
   ],
   "source": [
    "scaled_data = balanced_data.copy()\n",
    "scaled_data.iloc[:, :-1] = preprocessing.scale(balanced_data.iloc[:, :-1])\n",
    "scaled_data.head()"
   ]
  },
  {
   "cell_type": "markdown",
   "metadata": {},
   "source": [
    "### Split the dataset\n",
    "We'll need training, validation and testing (no need to shuffle I already did that)"
   ]
  },
  {
   "cell_type": "code",
   "execution_count": 5,
   "metadata": {},
   "outputs": [],
   "source": [
    "# Will use a 80-10-10 split\n",
    "n_samples = scaled_data.shape[0]\n",
    "\n",
    "train_samples = int(0.8 * n_samples)\n",
    "validation_samples = int(0.1 * n_samples)\n",
    "\n",
    "# Turn DF to Numpy to make process easier\n",
    "data = scaled_data.to_numpy()\n",
    "\n",
    "# Train\n",
    "train_data = data[:train_samples]\n",
    "train_inputs = train_data[:, :-1]\n",
    "train_targets = train_data[:, -1]\n",
    "\n",
    "# Validate\n",
    "validation_data = data[train_samples:train_samples+validation_samples]\n",
    "validation_inputs = validation_data[:, :-1]\n",
    "validation_targets = validation_data[:, -1]\n",
    "\n",
    "# Test\n",
    "test_data = data[train_samples+validation_samples:]\n",
    "test_inputs = test_data[:, :-1]\n",
    "test_targets = test_data[:, -1]\n"
   ]
  },
  {
   "cell_type": "markdown",
   "metadata": {},
   "source": [
    "### Save dataset"
   ]
  },
  {
   "cell_type": "code",
   "execution_count": 6,
   "metadata": {},
   "outputs": [],
   "source": [
    "np.savez('Audiobooks_training', inputs=train_inputs, targets=train_targets)\n",
    "np.savez('Audiobooks_validation', inputs=validation_inputs, targets=validation_targets)\n",
    "np.savez('Audiobooks_testing', inputs=test_inputs, targets=test_targets)"
   ]
  },
  {
   "cell_type": "markdown",
   "metadata": {},
   "source": [
    "## Open data"
   ]
  },
  {
   "cell_type": "code",
   "execution_count": 7,
   "metadata": {},
   "outputs": [],
   "source": [
    "npz = np.load('Audiobooks_training.npz')\n",
    "\n",
    "train_inputs = npz['inputs'].astype(float)\n",
    "train_targets = npz['targets'].astype(int)\n",
    "\n",
    "npz = np.load('Audiobooks_validation.npz')\n",
    "\n",
    "validation_inputs= npz['inputs'].astype(float)\n",
    "validation_targets = npz['targets'].astype(int)"
   ]
  },
  {
   "cell_type": "markdown",
   "metadata": {},
   "source": [
    "## Model\n",
    "\n",
    "Outline"
   ]
  },
  {
   "cell_type": "code",
   "execution_count": 8,
   "metadata": {},
   "outputs": [],
   "source": [
    "input_sz = 10\n",
    "output_sz = 2\n",
    "hidden_layer_sz = 50\n",
    "\n",
    "model = tf.keras.Sequential([\n",
    "    tf.keras.layers.Dense(hidden_layer_sz, activation='relu'),\n",
    "    tf.keras.layers.Dense(hidden_layer_sz, activation='relu'),\n",
    "    tf.keras.layers.Dense(output_sz, activation='softmax')\n",
    "])"
   ]
  },
  {
   "cell_type": "markdown",
   "metadata": {},
   "source": [
    "Loss function and optimizer"
   ]
  },
  {
   "cell_type": "code",
   "execution_count": 9,
   "metadata": {},
   "outputs": [],
   "source": [
    "model.compile(\n",
    "    optimizer='adam',\n",
    "    loss='sparse_categorical_crossentropy',\n",
    "    metrics=['accuracy']\n",
    ")"
   ]
  },
  {
   "cell_type": "markdown",
   "metadata": {},
   "source": [
    "Training"
   ]
  },
  {
   "cell_type": "code",
   "execution_count": 10,
   "metadata": {},
   "outputs": [
    {
     "name": "stdout",
     "output_type": "stream",
     "text": [
      "Epoch 1/100\n"
     ]
    },
    {
     "name": "stdout",
     "output_type": "stream",
     "text": [
      "36/36 [==============================] - 3s 16ms/step - loss: 0.5991 - accuracy: 0.6583 - val_loss: 0.5304 - val_accuracy: 0.7293\n",
      "Epoch 2/100\n",
      "36/36 [==============================] - 0s 5ms/step - loss: 0.4793 - accuracy: 0.7787 - val_loss: 0.4642 - val_accuracy: 0.7450\n",
      "Epoch 3/100\n",
      "36/36 [==============================] - 0s 5ms/step - loss: 0.4283 - accuracy: 0.7902 - val_loss: 0.4345 - val_accuracy: 0.7696\n",
      "Epoch 4/100\n",
      "36/36 [==============================] - 0s 5ms/step - loss: 0.4045 - accuracy: 0.7955 - val_loss: 0.4325 - val_accuracy: 0.7494\n",
      "Epoch 5/100\n",
      "36/36 [==============================] - 0s 5ms/step - loss: 0.3918 - accuracy: 0.7921 - val_loss: 0.4117 - val_accuracy: 0.7718\n",
      "Epoch 6/100\n",
      "36/36 [==============================] - 0s 5ms/step - loss: 0.3798 - accuracy: 0.8075 - val_loss: 0.4021 - val_accuracy: 0.7808\n",
      "Epoch 7/100\n",
      "36/36 [==============================] - 0s 7ms/step - loss: 0.3729 - accuracy: 0.8050 - val_loss: 0.4105 - val_accuracy: 0.7539\n",
      "Epoch 8/100\n",
      "36/36 [==============================] - 0s 5ms/step - loss: 0.3686 - accuracy: 0.8117 - val_loss: 0.4118 - val_accuracy: 0.7785\n"
     ]
    },
    {
     "data": {
      "text/plain": [
       "<keras.src.callbacks.History at 0x1dc0a426580>"
      ]
     },
     "execution_count": 10,
     "metadata": {},
     "output_type": "execute_result"
    }
   ],
   "source": [
    "# Separate into batches to use Mini-batch Gradient Descent\n",
    "BATCH_SZ = 100\n",
    "N_EPOCHS = 100\n",
    "\n",
    "model.fit(\n",
    "    train_inputs, \n",
    "    train_targets, \n",
    "    batch_size=BATCH_SZ, \n",
    "    epochs=N_EPOCHS, \n",
    "    callbacks=[tf.keras.callbacks.EarlyStopping(patience=2)], \n",
    "    validation_data=(validation_inputs, validation_targets), \n",
    "    verbose=1\n",
    ")"
   ]
  },
  {
   "cell_type": "markdown",
   "metadata": {},
   "source": [
    "### Testing"
   ]
  },
  {
   "cell_type": "code",
   "execution_count": 11,
   "metadata": {},
   "outputs": [
    {
     "name": "stdout",
     "output_type": "stream",
     "text": [
      "14/14 [==============================] - 0s 6ms/step - loss: 0.3676 - accuracy: 0.8103\n",
      "Test loss: 0.37\n",
      "Test accuracy: 81.03%\n"
     ]
    }
   ],
   "source": [
    "npz = np.load('Audiobooks_testing.npz')\n",
    "\n",
    "test_inputs = npz['inputs'].astype(float)\n",
    "test_targets = npz['targets'].astype(int)\n",
    "\n",
    "test_loss, test_accuracy = model.evaluate(test_inputs, test_targets)\n",
    "\n",
    "print(f'Test loss: {test_loss:.2f}\\nTest accuracy: {test_accuracy*100:.2f}%')"
   ]
  }
 ],
 "metadata": {
  "kernelspec": {
   "display_name": "Python 3",
   "language": "python",
   "name": "python3"
  },
  "language_info": {
   "codemirror_mode": {
    "name": "ipython",
    "version": 3
   },
   "file_extension": ".py",
   "mimetype": "text/x-python",
   "name": "python",
   "nbconvert_exporter": "python",
   "pygments_lexer": "ipython3",
   "version": "3.8.10"
  }
 },
 "nbformat": 4,
 "nbformat_minor": 2
}
