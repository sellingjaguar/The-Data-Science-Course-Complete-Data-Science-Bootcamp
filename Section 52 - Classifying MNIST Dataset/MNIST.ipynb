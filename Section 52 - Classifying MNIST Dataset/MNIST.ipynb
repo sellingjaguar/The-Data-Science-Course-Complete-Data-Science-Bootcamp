{
 "cells": [
  {
   "cell_type": "markdown",
   "metadata": {},
   "source": [
    "# Deep Neural Network for MNIST Classification\n",
    "\n",
    "We'll apply all the knowledge from the lectures in this section to write a deep neural network. The problem we've chosen is referred to as the \"Hello World\" of deep learning because for most students it is the first deep learning algorithm they see.\n",
    "\n",
    "The dataset is called MNIST and refers to handwritten digit recognition. You can find more about it on Yann LeCun's website (Director of AI Research, Facebook). He is one of the pioneers of what we've been talking about and of more complex approaches that are widely used today, such as covolutional neural networks (CNNs). \n",
    "\n",
    "The dataset provides 70,000 images (28x28 pixels) of handwritten digits (1 digit per image). \n",
    "\n",
    "The goal is to write an algorithm that detects which digit is written. Since there are only 10 digits (0, 1, 2, 3, 4, 5, 6, 7, 8, 9), this is a classification problem with 10 classes. \n",
    "\n",
    "Our goal would be to build a neural network with 2 hidden layers."
   ]
  },
  {
   "cell_type": "markdown",
   "metadata": {},
   "source": [
    "## Import the relevant packages"
   ]
  },
  {
   "cell_type": "code",
   "execution_count": 1,
   "metadata": {},
   "outputs": [],
   "source": [
    "import numpy as np\n",
    "import tensorflow as tf\n",
    "\n",
    "import tensorflow_datasets"
   ]
  },
  {
   "cell_type": "markdown",
   "metadata": {},
   "source": [
    "## Data\n",
    "\n",
    "That's where we load and preprocess our data."
   ]
  },
  {
   "cell_type": "code",
   "execution_count": 2,
   "metadata": {},
   "outputs": [],
   "source": [
    "mnist_dataset, mnist_info = tensorflow_datasets.load(name='mnist', with_info=True, as_supervised=True)"
   ]
  },
  {
   "cell_type": "markdown",
   "metadata": {},
   "source": [
    "## Preprocessing"
   ]
  },
  {
   "cell_type": "code",
   "execution_count": 3,
   "metadata": {},
   "outputs": [],
   "source": [
    "mnist_train, mnist_test = mnist_dataset['train'], mnist_dataset['test']\n",
    "\n",
    "n_validation_samples = tf.cast(0.1 * mnist_info.splits['train'].num_examples, tf.int64)\n",
    "n_test_samples = tf.cast(mnist_info.splits['test'].num_examples, tf.int64)\n",
    "\n",
    "# Scale the image values from 0-255 to 0-1 taking advantage of the map function\n",
    "def scale(img, label):\n",
    "    img = tf.cast(img, tf.float32)\n",
    "    img /= 255.\n",
    "    return img, label\n",
    "scaled_train_data = mnist_train.map(scale)\n",
    "scaled_test_data = mnist_test.map(scale)\n",
    "\n",
    "# Shuffle the data\n",
    "BUFFER_SZ = 10000\n",
    "shuffled_train_data = scaled_train_data.shuffle(BUFFER_SZ)\n",
    "validation_data = shuffled_train_data.take(n_validation_samples)\n",
    "train_data = shuffled_train_data.skip(n_validation_samples)\n",
    "\n",
    "# Separate into batches to use Mini-batch Gradient Descent\n",
    "BATCH_SIZE = 100\n",
    "train_data = train_data.batch(BATCH_SIZE)\n",
    "validation_data = validation_data.batch(n_validation_samples)\n",
    "test_data = scaled_test_data.batch(n_test_samples)\n",
    "\n",
    "validation_inputs, validation_targets = next(iter(validation_data))"
   ]
  },
  {
   "cell_type": "markdown",
   "metadata": {},
   "source": [
    "## Model"
   ]
  },
  {
   "cell_type": "markdown",
   "metadata": {},
   "source": [
    "Outline"
   ]
  },
  {
   "cell_type": "code",
   "execution_count": 4,
   "metadata": {},
   "outputs": [],
   "source": [
    "input_sz = 28*28\n",
    "output_sz = 10\n",
    "hidden_layer_sz = 100\n",
    "\n",
    "model = tf.keras.Sequential([\n",
    "    tf.keras.layers.Flatten(input_shape=(28, 28, 1)),\n",
    "    tf.keras.layers.Dense(hidden_layer_sz, activation='relu'),\n",
    "    tf.keras.layers.Dense(hidden_layer_sz, activation='relu'),\n",
    "    tf.keras.layers.Dense(output_sz, activation='softmax')\n",
    "])"
   ]
  },
  {
   "cell_type": "markdown",
   "metadata": {},
   "source": [
    "Optimizer and Loss function"
   ]
  },
  {
   "cell_type": "code",
   "execution_count": 5,
   "metadata": {},
   "outputs": [],
   "source": [
    "model.compile(optimizer='adam', loss='sparse_categorical_crossentropy', metrics=['accuracy'])"
   ]
  },
  {
   "cell_type": "markdown",
   "metadata": {},
   "source": [
    "Training"
   ]
  },
  {
   "cell_type": "code",
   "execution_count": 6,
   "metadata": {},
   "outputs": [
    {
     "name": "stdout",
     "output_type": "stream",
     "text": [
      "Epoch 1/5\n"
     ]
    },
    {
     "name": "stdout",
     "output_type": "stream",
     "text": [
      "540/540 - 15s - loss: 0.3273 - accuracy: 0.9067 - val_loss: 0.1571 - val_accuracy: 0.9550 - 15s/epoch - 28ms/step\n",
      "Epoch 2/5\n",
      "540/540 - 7s - loss: 0.1365 - accuracy: 0.9598 - val_loss: 0.1041 - val_accuracy: 0.9718 - 7s/epoch - 13ms/step\n",
      "Epoch 3/5\n",
      "540/540 - 7s - loss: 0.0962 - accuracy: 0.9703 - val_loss: 0.0883 - val_accuracy: 0.9752 - 7s/epoch - 13ms/step\n",
      "Epoch 4/5\n",
      "540/540 - 8s - loss: 0.0745 - accuracy: 0.9777 - val_loss: 0.0669 - val_accuracy: 0.9812 - 8s/epoch - 14ms/step\n",
      "Epoch 5/5\n",
      "540/540 - 7s - loss: 0.0591 - accuracy: 0.9816 - val_loss: 0.0636 - val_accuracy: 0.9817 - 7s/epoch - 13ms/step\n"
     ]
    },
    {
     "data": {
      "text/plain": [
       "<keras.src.callbacks.History at 0x1741bf370d0>"
      ]
     },
     "execution_count": 6,
     "metadata": {},
     "output_type": "execute_result"
    }
   ],
   "source": [
    "N_EPOCHS = 5\n",
    "\n",
    "model.fit(train_data, epochs = N_EPOCHS, validation_data=(validation_inputs, validation_targets), verbose=2)"
   ]
  },
  {
   "cell_type": "markdown",
   "metadata": {},
   "source": [
    "Testing"
   ]
  },
  {
   "cell_type": "code",
   "execution_count": 7,
   "metadata": {},
   "outputs": [
    {
     "name": "stdout",
     "output_type": "stream",
     "text": [
      "1/1 [==============================] - 2s 2s/step - loss: 0.0850 - accuracy: 0.9740\n",
      "Test loss: 0.09\n",
      "Test accuracy: 97.40%\n"
     ]
    }
   ],
   "source": [
    "test_loss, test_accuracy = model.evaluate(test_data)\n",
    "\n",
    "print(f'Test loss: {test_loss:.2f}\\nTest accuracy: {test_accuracy*100:.2f}%')"
   ]
  }
 ],
 "metadata": {
  "kernelspec": {
   "display_name": "Python 3",
   "language": "python",
   "name": "python3"
  },
  "language_info": {
   "codemirror_mode": {
    "name": "ipython",
    "version": 3
   },
   "file_extension": ".py",
   "mimetype": "text/x-python",
   "name": "python",
   "nbconvert_exporter": "python",
   "pygments_lexer": "ipython3",
   "version": "3.8.10"
  }
 },
 "nbformat": 4,
 "nbformat_minor": 2
}
