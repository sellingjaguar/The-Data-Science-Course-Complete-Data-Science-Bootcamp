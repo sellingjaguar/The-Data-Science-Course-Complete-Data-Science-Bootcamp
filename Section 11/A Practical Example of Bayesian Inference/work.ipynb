{
 "cells": [
  {
   "cell_type": "markdown",
   "metadata": {},
   "source": [
    "Here are the questions we left as homework towards the end of the video: \n",
    " \n",
    "1. What is the likelihood for a male student to be accepted? \n",
    "2. What is the likelihood for a female student to be accepted? \n",
    "3. Does gender have an effect on your chances of being accepter? \n",
    "4. Are first time freshmen men or women more likely to enrol?"
   ]
  },
  {
   "cell_type": "code",
   "execution_count": 27,
   "metadata": {},
   "outputs": [
    {
     "name": "stdout",
     "output_type": "stream",
     "text": [
      "Probability vs other Males: 0.2448\n",
      "Probability vs All Genders: 0.1117\n"
     ]
    }
   ],
   "source": [
    "# 1.\n",
    "\n",
    "# Accepted males / Total male applications\n",
    "p = 634 / 2590\n",
    "\n",
    "print(f'Probability vs other Males: {p:0.4}')\n",
    "\n",
    "# Accepted males / Total applications\n",
    "p = 634 / (2590 + 3088)\n",
    "\n",
    "print(f'Probability vs All Genders: {p:0.4}')"
   ]
  },
  {
   "cell_type": "code",
   "execution_count": 28,
   "metadata": {},
   "outputs": [
    {
     "name": "stdout",
     "output_type": "stream",
     "text": [
      "Probability vs other Females: 0.24\n",
      "Probability vs All Genders: 0.1305\n"
     ]
    }
   ],
   "source": [
    "# 2.\n",
    "\n",
    "# Accepted females / Total female applications\n",
    "p = 741 / 3088\n",
    "\n",
    "print(f'Probability vs other Females: {p:0.4}')\n",
    "\n",
    "# Accepted females / Total applications\n",
    "p = 741 / (2590 + 3088)\n",
    "\n",
    "print(f'Probability vs All Genders: {p:0.4}')"
   ]
  },
  {
   "cell_type": "markdown",
   "metadata": {},
   "source": [
    "3)\n",
    "Gender does not have an effect on your chances of getting accepted since the probability of a Male being accepted (0.24) and a Female being accepted (0.24) are equal if they are competing against their gender only.   \n",
    "If it is a \"free-for-all\" then Female students have a slightly better chance (0.02 or 2%) of being accepted although this is only due to the fact that more Female students applied and doesn't represent any kind of bias against Male students."
   ]
  },
  {
   "cell_type": "code",
   "execution_count": 29,
   "metadata": {},
   "outputs": [
    {
     "name": "stdout",
     "output_type": "stream",
     "text": [
      "Probability of males enrolling: 0.3423\n",
      "Probability of females enrolling: 0.3549\n",
      "Females more likely to enroll\n"
     ]
    }
   ],
   "source": [
    "# 4.\n",
    "\n",
    "# P(Male and Enrolling ) = Males that enrolled / Males that were admitted\n",
    "P_me = 217 / 634\n",
    "print(f'Probability of males enrolling: {P_me:0.4}')\n",
    "\n",
    "# P(Female and Enrolling ) = Females that enrolled / Females that were admitted\n",
    "P_fe = 263 / 741\n",
    "print(f'Probability of females enrolling: {P_fe:0.4}')\n",
    "\n",
    "if P_me > P_fe:\n",
    "    print('Males more likely to enroll')\n",
    "else:\n",
    "    print('Females more likely to enroll')"
   ]
  },
  {
   "cell_type": "markdown",
   "metadata": {},
   "source": [
    "Onto table C2. \n",
    " \n",
    "5. What is the likelihood of being offered a place on the waitlist? \n",
    "6. What is the likelihood of getting admitted, having accepted a place on the waitlist? \n",
    "7. What is the likelihood of getting admitted, having been offered a place on the waitlist?"
   ]
  },
  {
   "cell_type": "code",
   "execution_count": 30,
   "metadata": {},
   "outputs": [
    {
     "name": "stdout",
     "output_type": "stream",
     "text": [
      "Probability of being offered a place on the waitlist: 0.3019\n"
     ]
    }
   ],
   "source": [
    "# 5.\n",
    "\n",
    "# P(Being offered waitlist) = Offered waitlist / (Total applications - Total admissions)\n",
    "p = 1299 / ( (2590 + 3088) - (634 + 741) )\n",
    "print(f'Probability of being offered a place on the waitlist: {p:0.4}')"
   ]
  },
  {
   "cell_type": "code",
   "execution_count": 31,
   "metadata": {},
   "outputs": [
    {
     "name": "stdout",
     "output_type": "stream",
     "text": [
      "Probability of being admitted after accepting place on the waitlist: 0.05246\n"
     ]
    }
   ],
   "source": [
    "# 6.\n",
    "\n",
    "# P(Admitted after waitlist) = Admitted from waitlist / Accepted waitlist\n",
    "p = 33 / 629\n",
    "print(f'Probability of being admitted after accepting place on the waitlist: {p:0.4}')"
   ]
  },
  {
   "cell_type": "code",
   "execution_count": 32,
   "metadata": {},
   "outputs": [
    {
     "name": "stdout",
     "output_type": "stream",
     "text": [
      "Probability of being admitted after being offered place on the waitlist: 0.0254\n"
     ]
    }
   ],
   "source": [
    "# 7.\n",
    "\n",
    "# P(Admitted after being offered place) = Admitted from waitlist / Offered place on waitlist\n",
    "p = 33 / 1299\n",
    "print(f'Probability of being admitted after being offered place on the waitlist: {p:0.4}')"
   ]
  }
 ],
 "metadata": {
  "kernelspec": {
   "display_name": "Python 3",
   "language": "python",
   "name": "python3"
  },
  "language_info": {
   "codemirror_mode": {
    "name": "ipython",
    "version": 3
   },
   "file_extension": ".py",
   "mimetype": "text/x-python",
   "name": "python",
   "nbconvert_exporter": "python",
   "pygments_lexer": "ipython3",
   "version": "3.8.10"
  }
 },
 "nbformat": 4,
 "nbformat_minor": 2
}
